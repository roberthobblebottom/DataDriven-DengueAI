{
  "nbformat": 4,
  "nbformat_minor": 0,
  "metadata": {
    "colab": {
      "name": "Approach 3: ryan's nn attempt.ipynb",
      "provenance": [],
      "collapsed_sections": []
    },
    "kernelspec": {
      "name": "python3",
      "display_name": "Python 3"
    },
    "language_info": {
      "name": "python"
    }
  },
  "cells": [
    {
      "cell_type": "code",
      "metadata": {
        "id": "CZ_luYEyhNva",
        "colab": {
          "base_uri": "https://localhost:8080/"
        },
        "outputId": "3d9131ef-a431-460a-fea1-75e25ee1e05f"
      },
      "source": [
        "import torch\n",
        "import numpy as np\n",
        "import pandas as pd\n",
        "from torch.utils.data import DataLoader\n",
        "from torch.utils.data import TensorDataset\n",
        "\n",
        "from torch import optim, nn\n",
        "from torch.nn import CrossEntropyLoss\n",
        "import torch.nn.functional as F\n",
        "from numpy import genfromtxt\n",
        "from google.colab import drive\n",
        "import pandas as pd\n",
        "import seaborn as sns\n",
        "import matplotlib.pyplot as plt\n",
        "\n",
        "from sklearn.cluster import KMeans\n",
        "from sklearn.impute import KNNImputer\n",
        "from sklearn.model_selection import TimeSeriesSplit\n",
        "import lightgbm as lgb\n",
        "\n",
        "\n",
        "import copy\n",
        "%matplotlib inline\n",
        "\n",
        "rng = 0\n",
        "\n",
        "drive.mount('/content/gdrive')\n",
        "%cd /content/gdrive/My\\ Drive/Colab\\ Notebooks"
      ],
      "execution_count": null,
      "outputs": [
        {
          "output_type": "stream",
          "name": "stdout",
          "text": [
            "Drive already mounted at /content/gdrive; to attempt to forcibly remount, call drive.mount(\"/content/gdrive\", force_remount=True).\n",
            "/content/gdrive/My Drive/Colab Notebooks\n"
          ]
        }
      ]
    },
    {
      "cell_type": "markdown",
      "metadata": {
        "id": "r7RY3DCi4ssb"
      },
      "source": [
        "Load data   \n",
        "Split the dataset by city,drop 'week_start_date' since we don't need such fine-grained time data .  \n",
        "Check missing data."
      ]
    },
    {
      "cell_type": "code",
      "metadata": {
        "id": "V0ciUQqAfO7U",
        "colab": {
          "base_uri": "https://localhost:8080/"
        },
        "outputId": "fb853312-f416-4a56-f4f0-3ea1799d57be"
      },
      "source": [
        "train_features = pd.read_csv(\"./dengue_features_train.csv\")\n",
        "train_labels = pd.read_csv(\"./dengue_labels_train.csv\")\n",
        "test_features=pd.read_csv(\"./dengue_features_test.csv\")\n",
        "\n",
        "sj_train_features=train_features[train_features.city=='sj']\n",
        "sj_train_features.drop(['city','week_start_date'],axis=1, inplace=True)\n",
        "\n",
        "sj_train_labels=train_labels[train_labels.city=='sj']\n",
        "sj_train_labels.drop(['city','year','weekofyear'],axis=1, inplace=True)\n",
        "\n",
        "print('\\n San Juan any nulls?')\n",
        "print(pd.isnull(sj_train_features).any())\n",
        "print(pd.isna(sj_train_features).any())\n",
        "print(pd.isnull(sj_train_labels).any())\n",
        "print(pd.isna(sj_train_labels).any())"
      ],
      "execution_count": null,
      "outputs": [
        {
          "output_type": "stream",
          "name": "stdout",
          "text": [
            "\n",
            " San Juan any nulls?\n",
            "year                                     False\n",
            "weekofyear                               False\n",
            "ndvi_ne                                   True\n",
            "ndvi_nw                                   True\n",
            "ndvi_se                                   True\n",
            "ndvi_sw                                   True\n",
            "precipitation_amt_mm                      True\n",
            "reanalysis_air_temp_k                     True\n",
            "reanalysis_avg_temp_k                     True\n",
            "reanalysis_dew_point_temp_k               True\n",
            "reanalysis_max_air_temp_k                 True\n",
            "reanalysis_min_air_temp_k                 True\n",
            "reanalysis_precip_amt_kg_per_m2           True\n",
            "reanalysis_relative_humidity_percent      True\n",
            "reanalysis_sat_precip_amt_mm              True\n",
            "reanalysis_specific_humidity_g_per_kg     True\n",
            "reanalysis_tdtr_k                         True\n",
            "station_avg_temp_c                        True\n",
            "station_diur_temp_rng_c                   True\n",
            "station_max_temp_c                        True\n",
            "station_min_temp_c                        True\n",
            "station_precip_mm                         True\n",
            "dtype: bool\n",
            "year                                     False\n",
            "weekofyear                               False\n",
            "ndvi_ne                                   True\n",
            "ndvi_nw                                   True\n",
            "ndvi_se                                   True\n",
            "ndvi_sw                                   True\n",
            "precipitation_amt_mm                      True\n",
            "reanalysis_air_temp_k                     True\n",
            "reanalysis_avg_temp_k                     True\n",
            "reanalysis_dew_point_temp_k               True\n",
            "reanalysis_max_air_temp_k                 True\n",
            "reanalysis_min_air_temp_k                 True\n",
            "reanalysis_precip_amt_kg_per_m2           True\n",
            "reanalysis_relative_humidity_percent      True\n",
            "reanalysis_sat_precip_amt_mm              True\n",
            "reanalysis_specific_humidity_g_per_kg     True\n",
            "reanalysis_tdtr_k                         True\n",
            "station_avg_temp_c                        True\n",
            "station_diur_temp_rng_c                   True\n",
            "station_max_temp_c                        True\n",
            "station_min_temp_c                        True\n",
            "station_precip_mm                         True\n",
            "dtype: bool\n",
            "total_cases    False\n",
            "dtype: bool\n",
            "total_cases    False\n",
            "dtype: bool\n"
          ]
        },
        {
          "output_type": "stream",
          "name": "stderr",
          "text": [
            "/usr/local/lib/python3.7/dist-packages/pandas/core/frame.py:4174: SettingWithCopyWarning: \n",
            "A value is trying to be set on a copy of a slice from a DataFrame\n",
            "\n",
            "See the caveats in the documentation: https://pandas.pydata.org/pandas-docs/stable/user_guide/indexing.html#returning-a-view-versus-a-copy\n",
            "  errors=errors,\n"
          ]
        }
      ]
    },
    {
      "cell_type": "markdown",
      "metadata": {
        "id": "529DeE9o6Xt8"
      },
      "source": [
        "## Classification"
      ]
    },
    {
      "cell_type": "markdown",
      "metadata": {
        "id": "qx1JzDNa56fT"
      },
      "source": [
        "We want to divide the categories based on quartiles. Because quartiles can help us identify different levels of data and outliers. "
      ]
    },
    {
      "cell_type": "code",
      "metadata": {
        "colab": {
          "base_uri": "https://localhost:8080/",
          "height": 300
        },
        "id": "4FJVkFOb5rHL",
        "outputId": "359912b3-49d4-45e2-b8f5-539d892477f6"
      },
      "source": [
        "sj_train_labels.describe()"
      ],
      "execution_count": null,
      "outputs": [
        {
          "output_type": "execute_result",
          "data": {
            "text/html": [
              "<div>\n",
              "<style scoped>\n",
              "    .dataframe tbody tr th:only-of-type {\n",
              "        vertical-align: middle;\n",
              "    }\n",
              "\n",
              "    .dataframe tbody tr th {\n",
              "        vertical-align: top;\n",
              "    }\n",
              "\n",
              "    .dataframe thead th {\n",
              "        text-align: right;\n",
              "    }\n",
              "</style>\n",
              "<table border=\"1\" class=\"dataframe\">\n",
              "  <thead>\n",
              "    <tr style=\"text-align: right;\">\n",
              "      <th></th>\n",
              "      <th>total_cases</th>\n",
              "    </tr>\n",
              "  </thead>\n",
              "  <tbody>\n",
              "    <tr>\n",
              "      <th>count</th>\n",
              "      <td>936.000000</td>\n",
              "    </tr>\n",
              "    <tr>\n",
              "      <th>mean</th>\n",
              "      <td>34.180556</td>\n",
              "    </tr>\n",
              "    <tr>\n",
              "      <th>std</th>\n",
              "      <td>51.381372</td>\n",
              "    </tr>\n",
              "    <tr>\n",
              "      <th>min</th>\n",
              "      <td>0.000000</td>\n",
              "    </tr>\n",
              "    <tr>\n",
              "      <th>25%</th>\n",
              "      <td>9.000000</td>\n",
              "    </tr>\n",
              "    <tr>\n",
              "      <th>50%</th>\n",
              "      <td>19.000000</td>\n",
              "    </tr>\n",
              "    <tr>\n",
              "      <th>75%</th>\n",
              "      <td>37.000000</td>\n",
              "    </tr>\n",
              "    <tr>\n",
              "      <th>max</th>\n",
              "      <td>461.000000</td>\n",
              "    </tr>\n",
              "  </tbody>\n",
              "</table>\n",
              "</div>"
            ],
            "text/plain": [
              "       total_cases\n",
              "count   936.000000\n",
              "mean     34.180556\n",
              "std      51.381372\n",
              "min       0.000000\n",
              "25%       9.000000\n",
              "50%      19.000000\n",
              "75%      37.000000\n",
              "max     461.000000"
            ]
          },
          "metadata": {},
          "execution_count": 97
        }
      ]
    },
    {
      "cell_type": "markdown",
      "metadata": {
        "id": "JvEcpN_86nzb"
      },
      "source": [
        "Draw graphs to see the distribution of totol_cases.   \n",
        "We can see that most of the data are between 0-50. And in the box plot, data points greater than upper edge are outliers. "
      ]
    },
    {
      "cell_type": "code",
      "metadata": {
        "colab": {
          "base_uri": "https://localhost:8080/",
          "height": 352
        },
        "id": "6X24B4yaaI2j",
        "outputId": "e0b1c092-22b2-493a-efae-ac551fffe60e"
      },
      "source": [
        " _, axs = plt.subplots(1, 2,figsize=(20, 5))\n",
        "sns.histplot(x=sj_train_labels['total_cases'],kde=False,color='#65b87b', alpha=.7,ax=axs[0])\n",
        "sns.boxplot(x=sj_train_labels['total_cases'],color='#6fb9bd',ax=axs[1])"
      ],
      "execution_count": null,
      "outputs": [
        {
          "output_type": "execute_result",
          "data": {
            "text/plain": [
              "<matplotlib.axes._subplots.AxesSubplot at 0x7fa5670e58d0>"
            ]
          },
          "metadata": {},
          "execution_count": 98
        },
        {
          "output_type": "display_data",
          "data": {
            "image/png": "[encoded data removed]",
            "text/plain": [
              "<Figure size 1440x360 with 2 Axes>"
            ]
          },
          "metadata": {
            "needs_background": "light"
          }
        }
      ]
    },
    {
      "cell_type": "markdown",
      "metadata": {
        "id": "jYuRVvBO7rMP"
      },
      "source": [
        "We calculate the upper edge using quartiles. Upper edge is the non-anomalous maximum.  \n",
        "We think that data should be ranged as (lower edge,q1),(q1,q3),(q3,upper edge),(upper edge,).These categories correspond to lower values, intermediate values, higher values, and outliers.  "
      ]
    },
    {
      "cell_type": "code",
      "metadata": {
        "id": "4IMoFqHgaI7-"
      },
      "source": [
        "#In boxplot, data is divided by: lower--q1--(q2)--q3--upper---\n",
        "q1=9\n",
        "q2=19\n",
        "q3=37\n",
        "lower=q1-(1.5*(q3-q1)) if q1-(1.5*(q3-q1))>0 else 0 #Non-anomalous minimum,lower edge of boxplot\n",
        "upper=q3+(1.5*(q3-q1)) #Non-anomalous maximum,upper edge of boxplot. outlier= data > upper"
      ],
      "execution_count": null,
      "outputs": []
    },
    {
      "cell_type": "markdown",
      "metadata": {
        "id": "YELhVrzTxNer"
      },
      "source": [
        "Logic by using a static algorithm to sort the labels into range_groups"
      ]
    },
    {
      "cell_type": "code",
      "metadata": {
        "id": "zUFw8Ae1rD0N"
      },
      "source": [
        "def get_range_group_from_cases(cases):\n",
        "    if cases<q1:\n",
        "        return 0\n",
        "    elif cases<q3:\n",
        "        return 1\n",
        "    elif cases <upper:\n",
        "        return 2\n",
        "    else:\n",
        "        return 3"
      ],
      "execution_count": null,
      "outputs": []
    },
    {
      "cell_type": "markdown",
      "metadata": {
        "id": "5lPkflF0KEDo"
      },
      "source": [
        "Knn imputer to impute missing features to values closer to them of the same cluster.\n"
      ]
    },
    {
      "cell_type": "code",
      "metadata": {
        "id": "wZaMqDxSJ0xN"
      },
      "source": [
        "knnImputer = KNNImputer(n_neighbors=4,\n",
        "                        weights=\"distance\",\n",
        "                        copy=False)\n",
        "sj_train_features = knnImputer.fit_transform(sj_train_features)"
      ],
      "execution_count": null,
      "outputs": []
    },
    {
      "cell_type": "markdown",
      "metadata": {
        "id": "4IZ1Jrv187U-"
      },
      "source": [
        "After preprocessing,transform data to tensor type."
      ]
    },
    {
      "cell_type": "code",
      "metadata": {
        "id": "vEnaf9gzfTac"
      },
      "source": [
        "\n",
        "sj_train_features_t=torch.tensor(sj_train_features,dtype=torch.float)\n",
        "sj_train_labels_t=torch.tensor(sj_train_labels.to_numpy(),dtype=torch.float).view(-1,1)"
      ],
      "execution_count": null,
      "outputs": []
    },
    {
      "cell_type": "markdown",
      "metadata": {
        "id": "gAfLQ2pRoRsv"
      },
      "source": [
        "Initialise neural network linearly."
      ]
    },
    {
      "cell_type": "code",
      "metadata": {
        "id": "bEIWv7R4EmhP"
      },
      "source": [
        "class Net(nn.Module):\n",
        "    def __init__(self):\n",
        "        super().__init__()\n",
        "        self.layer1 = nn.Linear(22,15)# 15 seems to work better than 10\n",
        "        self.layer2 = nn.Linear(15,4)\n",
        "        # self.layer3 = nn.Linear(9,4)\n",
        "\n",
        "    def forward(self, x):\n",
        "        x = self.layer1(x)\n",
        "        x = self.layer2(x)\n",
        "        # x = self.layer3(x)\n",
        "        return x"
      ],
      "execution_count": null,
      "outputs": []
    },
    {
      "cell_type": "markdown",
      "metadata": {
        "id": "lmkJrMI0gmeR"
      },
      "source": [
        "\n",
        "Training NN model.\n",
        "\n",
        "ADAM optimizer is used for it's stochastic gradient descent method to update biases\n",
        "\n",
        "Backpropagation is also used.\n",
        "\n",
        "Cross Entropy loss is used for classification problem.It supports labels in long type."
      ]
    },
    {
      "cell_type": "code",
      "metadata": {
        "id": "lfH0m8T0fY_u"
      },
      "source": [
        "def train_net(net,\n",
        "          train_features,\n",
        "          train_labels,\n",
        "          test_features=None,\n",
        "          test_labels=None,\n",
        "          num_epochs = 10,\n",
        "          learning_rate=0.1,\n",
        "          batch_size=10):\n",
        "    train_ls=[] \n",
        "    dataset=TensorDataset(train_features,train_labels)\n",
        "    train_iter=DataLoader(dataset,batch_size,shuffle=True)\n",
        "    optimizer=optim.Adam(params=net.parameters(),\n",
        "                         lr=learning_rate)\n",
        "    criterion = nn.CrossEntropyLoss()\n",
        "    net=net.float()\n",
        "    for epoch in range(num_epochs):\n",
        "        for x , y in train_iter:\n",
        "            optimizer.zero_grad()\n",
        "            output=net(x.float())\n",
        "            loss=criterion(output,y)\n",
        "            loss.backward()\n",
        "            optimizer.step()\n",
        "        print(\"loss: {}\".format(loss))\n",
        "    "
      ],
      "execution_count": null,
      "outputs": []
    },
    {
      "cell_type": "code",
      "metadata": {
        "id": "Nqx8IVUox8H_"
      },
      "source": [
        "net = Net()"
      ],
      "execution_count": null,
      "outputs": []
    },
    {
      "cell_type": "markdown",
      "metadata": {
        "id": "-mHEHRjT7gCE"
      },
      "source": [
        "Changed y values in test from number of cases to cluster number"
      ]
    },
    {
      "cell_type": "markdown",
      "metadata": {
        "id": "xBW7Wpvz9wTg"
      },
      "source": [
        "train_features_in_range_groups save the features of different cluster.  \n",
        "train_labels_in_range_groups save the total_cases of differnet cluser.  \n",
        "y_range_groups save the cluster number of each input data. "
      ]
    },
    {
      "cell_type": "code",
      "metadata": {
        "id": "rtrGcUaVxXW8"
      },
      "source": [
        "sj_train_labels = sj_train_labels.total_cases\n",
        "y_range_groups = torch.tensor(sj_train_labels)\n",
        "train_features_in_range_groups = [[],[],[],[]]\n",
        "train_labels_in_range_groups = [[],[],[],[]]\n",
        "for i,y in enumerate(sj_train_labels):\n",
        "  range_group = get_range_group_from_cases(int(y))\n",
        "  range_group = torch.tensor([range_group])\n",
        "  \n",
        "  train_features_in_range_groups[range_group].append(sj_train_features[i]) \n",
        "  train_labels_in_range_groups[range_group].append(sj_train_labels[i])\n",
        "  y_range_groups[i] = range_group"
      ],
      "execution_count": null,
      "outputs": []
    },
    {
      "cell_type": "markdown",
      "metadata": {
        "id": "oQ4ubeIz-eYV"
      },
      "source": [
        "Train NN."
      ]
    },
    {
      "cell_type": "code",
      "metadata": {
        "id": "p0_NqOFu6wUb",
        "colab": {
          "base_uri": "https://localhost:8080/"
        },
        "outputId": "25e50ef6-9a8a-47be-b017-72270e7c9748"
      },
      "source": [
        "train_net(net=net,num_epochs=20,\n",
        "                 train_features=sj_train_features_t,\n",
        "                 train_labels=y_range_groups)"
      ],
      "execution_count": null,
      "outputs": [
        {
          "output_type": "stream",
          "name": "stdout",
          "text": [
            "loss: 62.902400970458984\n",
            "loss: 2.2867653369903564\n",
            "loss: 0.9966108798980713\n",
            "loss: 1.2429308891296387\n",
            "loss: 2.9608070850372314\n",
            "loss: 2.507720708847046\n",
            "loss: 1.3941351175308228\n",
            "loss: 145.21734619140625\n",
            "loss: 525.6661987304688\n",
            "loss: 166.0164794921875\n",
            "loss: 4.489466667175293\n",
            "loss: 3.8252506256103516\n",
            "loss: 0.7415211200714111\n",
            "loss: 4.273420810699463\n",
            "loss: 2.483079671859741\n",
            "loss: 1.3282173871994019\n",
            "loss: 1.0296787023544312\n",
            "loss: 1.5835208892822266\n",
            "loss: 1.6243513822555542\n",
            "loss: 1.909854531288147\n"
          ]
        }
      ]
    },
    {
      "cell_type": "markdown",
      "metadata": {
        "id": "wORPO1D6jbSL"
      },
      "source": [
        "# Regression fitting per range class\n"
      ]
    },
    {
      "cell_type": "code",
      "metadata": {
        "id": "G65YtqlRWtpZ"
      },
      "source": [
        "import lightgbm as lgb"
      ],
      "execution_count": null,
      "outputs": []
    },
    {
      "cell_type": "markdown",
      "metadata": {
        "id": "ORUE7MmC-vJh"
      },
      "source": [
        "We use LightGBM as regression model from the experience in Approach2.The parameters are the best parameter from approach2 too.For each range group, we train different model for it and store model in regressors_per_range_group."
      ]
    },
    {
      "cell_type": "code",
      "metadata": {
        "id": "rnB4eBowjRyP"
      },
      "source": [
        "regressors_per_range_group = []\n",
        "for i, range_group_features in enumerate(train_features_in_range_groups):\n",
        "  model_lgb = lgb.LGBMRegressor(objective='regression',learning_rate=0.05,n_estimators=800,\n",
        "                              max_bin=55, bagging_fraction=0.8, min_sum_hessian_in_leaf=11)\n",
        "  range_group_labels = train_labels_in_range_groups[i]\n",
        "  model_lgb.fit(range_group_features,range_group_labels)\n",
        "  regressors_per_range_group.append(copy.deepcopy(model_lgb))"
      ],
      "execution_count": null,
      "outputs": []
    },
    {
      "cell_type": "markdown",
      "metadata": {
        "id": "q75F9hhx_b_5"
      },
      "source": [
        "# Predict"
      ]
    },
    {
      "cell_type": "markdown",
      "metadata": {
        "id": "rlfoUDV-Ia5t"
      },
      "source": [
        "Test with sj_test_features"
      ]
    },
    {
      "cell_type": "code",
      "metadata": {
        "id": "2kgtlEMOjki2",
        "colab": {
          "base_uri": "https://localhost:8080/"
        },
        "outputId": "2e11d131-f813-43b7-f171-bd1f1dbc4272"
      },
      "source": [
        "sj_test_features=test_features[test_features.city=='sj']\n",
        "sj_test_features.drop(['city','week_start_date'],axis=1,inplace=True)\n",
        "sj_test_features_t=knnImputer.fit_transform(sj_test_features)\n",
        "sj_test_features_t=torch.tensor(sj_test_features.to_numpy(),dtype=torch.float)"
      ],
      "execution_count": null,
      "outputs": [
        {
          "output_type": "stream",
          "name": "stderr",
          "text": [
            "/usr/local/lib/python3.7/dist-packages/pandas/core/frame.py:4174: SettingWithCopyWarning: \n",
            "A value is trying to be set on a copy of a slice from a DataFrame\n",
            "\n",
            "See the caveats in the documentation: https://pandas.pydata.org/pandas-docs/stable/user_guide/indexing.html#returning-a-view-versus-a-copy\n",
            "  errors=errors,\n"
          ]
        }
      ]
    },
    {
      "cell_type": "code",
      "metadata": {
        "id": "DDjznz60UP2-"
      },
      "source": [
        "#predict sj_test\n",
        "sj_test_features_tensor = torch.tensor(sj_test_features.to_numpy(),dtype=torch.float)\n",
        "\n",
        "outputs = net(sj_test_features_tensor)\n",
        "_, predicted = torch.max(outputs,1)\n",
        "predicted = predicted + 1\n",
        "\n",
        "\n",
        "sj_predictions=[]\n",
        "test_features_per_range_group =[[],[],[],[]] \n",
        "test_index_per_range_group=[[],[],[],[]] #record index \n",
        "\n",
        "for i,y in enumerate(predicted):\n",
        "  range_group = int(y)-1\n",
        "  test_features_per_range_group[range_group].append(np.array(sj_test_features.iloc[i,:]))\n",
        "  test_index_per_range_group[range_group].append(int(i))\n",
        "\n",
        "for i in range(0,len(test_features_per_range_group)):\n",
        "  regressor = regressors_per_range_group[i]\n",
        "  try:\n",
        "    range_group_prediction= regressor.predict(test_features_per_range_group[i])\n",
        "    sj_predictions.append(range_group_prediction)\n",
        "  except:\n",
        "    # some class don't have data,ignore them\n",
        "    pass"
      ],
      "execution_count": null,
      "outputs": []
    },
    {
      "cell_type": "markdown",
      "metadata": {
        "id": "nFEGYe2z_hAv"
      },
      "source": [
        "Transform predictions to df, restore the order of input "
      ]
    },
    {
      "cell_type": "code",
      "metadata": {
        "id": "Zv3_aFHSeA8I"
      },
      "source": [
        "test_ind=np.hstack([ind for ind in test_index_per_range_group])\n",
        "sj_result=pd.DataFrame(np.hstack([a for a in sj_predictions]),columns=['cases'])\n",
        "\n",
        "sj_result['ind']=test_ind\n",
        "sj_result.set_index('ind')\n",
        "sj_result.drop('ind',axis=1,inplace=True)\n",
        "sj_result.sort_index()\n",
        "sj_result['cases']=sj_result.cases.apply(lambda x: round(x))"
      ],
      "execution_count": null,
      "outputs": []
    },
    {
      "cell_type": "code",
      "metadata": {
        "colab": {
          "base_uri": "https://localhost:8080/",
          "height": 424
        },
        "id": "Dyx8BS0vfxjX",
        "outputId": "b312672b-db57-49ca-ba07-97f86794f4e3"
      },
      "source": [
        "sj_result"
      ],
      "execution_count": null,
      "outputs": [
        {
          "output_type": "execute_result",
          "data": {
            "text/html": [
              "<div>\n",
              "<style scoped>\n",
              "    .dataframe tbody tr th:only-of-type {\n",
              "        vertical-align: middle;\n",
              "    }\n",
              "\n",
              "    .dataframe tbody tr th {\n",
              "        vertical-align: top;\n",
              "    }\n",
              "\n",
              "    .dataframe thead th {\n",
              "        text-align: right;\n",
              "    }\n",
              "</style>\n",
              "<table border=\"1\" class=\"dataframe\">\n",
              "  <thead>\n",
              "    <tr style=\"text-align: right;\">\n",
              "      <th></th>\n",
              "      <th>cases</th>\n",
              "    </tr>\n",
              "  </thead>\n",
              "  <tbody>\n",
              "    <tr>\n",
              "      <th>0</th>\n",
              "      <td>4</td>\n",
              "    </tr>\n",
              "    <tr>\n",
              "      <th>1</th>\n",
              "      <td>4</td>\n",
              "    </tr>\n",
              "    <tr>\n",
              "      <th>2</th>\n",
              "      <td>4</td>\n",
              "    </tr>\n",
              "    <tr>\n",
              "      <th>3</th>\n",
              "      <td>4</td>\n",
              "    </tr>\n",
              "    <tr>\n",
              "      <th>4</th>\n",
              "      <td>5</td>\n",
              "    </tr>\n",
              "    <tr>\n",
              "      <th>...</th>\n",
              "      <td>...</td>\n",
              "    </tr>\n",
              "    <tr>\n",
              "      <th>255</th>\n",
              "      <td>51</td>\n",
              "    </tr>\n",
              "    <tr>\n",
              "      <th>256</th>\n",
              "      <td>61</td>\n",
              "    </tr>\n",
              "    <tr>\n",
              "      <th>257</th>\n",
              "      <td>60</td>\n",
              "    </tr>\n",
              "    <tr>\n",
              "      <th>258</th>\n",
              "      <td>58</td>\n",
              "    </tr>\n",
              "    <tr>\n",
              "      <th>259</th>\n",
              "      <td>54</td>\n",
              "    </tr>\n",
              "  </tbody>\n",
              "</table>\n",
              "<p>260 rows × 1 columns</p>\n",
              "</div>"
            ],
            "text/plain": [
              "     cases\n",
              "0        4\n",
              "1        4\n",
              "2        4\n",
              "3        4\n",
              "4        5\n",
              "..     ...\n",
              "255     51\n",
              "256     61\n",
              "257     60\n",
              "258     58\n",
              "259     54\n",
              "\n",
              "[260 rows x 1 columns]"
            ]
          },
          "metadata": {},
          "execution_count": 113
        }
      ]
    },
    {
      "cell_type": "markdown",
      "metadata": {
        "id": "vjJNaiwQsI5h"
      },
      "source": [
        "Preperations for ax optimisations.\n",
        "\n"
      ]
    },
    {
      "cell_type": "markdown",
      "metadata": {
        "id": "5nL5iw8qw9y0"
      },
      "source": [
        "Abitrary list of parameters values:"
      ]
    },
    {
      "cell_type": "code",
      "metadata": {
        "id": "dD1wMHFQsHrq"
      },
      "source": [
        "#gbr = gradientBoostingRegression \n",
        "parameterScope=[\n",
        "        {\"name\":\"knn_n_components\" ,\"type\": \"range\", \"bounds\": [15,20]},\n",
        "\n",
        "        {\"name\":\"nn_learning_rate\" ,\n",
        "         \"type\": \"choice\",\n",
        "         \"value_type\":\"float\", \n",
        "         \"values\": [0.07,0.06,0.05]},\n",
        "        {\"name\":\"nn_num_epochs\" ,\"type\": \"range\", \"bounds\": [15,25]},\n",
        "        {\"name\":\"nn_batch_size\" ,\"type\": \"range\", \"bounds\": [5,25]},\n",
        "\n",
        "        \n",
        "        {\"name\":\"gbr_learning_rate\" ,\"type\": \"choice\",\"value_type\":\"float\", \n",
        "         \"values\": [0.07,0.06,0.05]},\n",
        "        {\"name\":\"gbr_n_estimators\" ,\"type\": \"range\", \"bounds\": [150,200]},\n",
        "]"
      ],
      "execution_count": null,
      "outputs": []
    },
    {
      "cell_type": "code",
      "metadata": {
        "id": "MJ6eheqyr_g4"
      },
      "source": [
        "from sklearn.metrics import accuracy_score\n",
        "def train_estimator(estimator,x_train,y_train):\n",
        "    estimator.fit(x_train,y_train)\n",
        "    return estimator\n",
        "\n",
        "def evaluate(predictions,y_test):\n",
        "    return mean_absolute_error(y_test,predictions)\n",
        "\n",
        "def train_evaluate(parameters):\n",
        "    predictions = train_predict(parameters)\n",
        "    return evaluate(predictions,y_test) \n",
        "\n",
        "def train_predict(parameters):\n",
        "     preprocessing = Pipeline(steps=[\n",
        "       (\"knnImputer\", KNNImputer(n_neighbors=parameters[\"knnImputer_n_clusters\"], \n",
        "                                 weights=\"uniform\",  \n",
        "                                 copy=False)),\n",
        "     ])\n",
        "\n",
        "     estimator = Pipeline(steps=[\n",
        "            ('proc', preprocessing),   \n",
        "            (\"neural_network\",Net(learning_rate = parameters[\"nn_learning_rate\"],\n",
        "                                  num_epochs= parameters[\"nn_num_epochs\"]\n",
        "                                  )\n",
        "            ),\n",
        "            # (\"gbr\",GradientBoostingRegressor())#to be changed\n",
        "     ]) \n",
        "     train_estimator(estimator,x_train,y_train)\n",
        "     return estimator.predict(x_test)\n"
      ],
      "execution_count": null,
      "outputs": []
    },
    {
      "cell_type": "markdown",
      "metadata": {
        "id": "w8EgrjHBhLrU"
      },
      "source": [
        "**Iq city preprocessing, training and prediction**  \n",
        "Same as sj"
      ]
    },
    {
      "cell_type": "code",
      "metadata": {
        "id": "-hoYVY7yKKNc",
        "colab": {
          "base_uri": "https://localhost:8080/"
        },
        "outputId": "7e0f6506-c9ae-410d-b9c4-6b97972abfad"
      },
      "source": [
        "#preprocess of iq\n",
        "iq_train_features=train_features[train_features.city=='iq']\n",
        "iq_train_features.drop(['city','week_start_date'],axis=1, inplace=True)\n",
        "\n",
        "iq_train_labels=train_labels[train_labels.city=='iq']\n",
        "iq_train_labels.drop(['city','year','weekofyear'],axis=1, inplace=True)\n",
        "iq_train_features = knnImputer.fit_transform(iq_train_features)"
      ],
      "execution_count": null,
      "outputs": [
        {
          "output_type": "stream",
          "name": "stdout",
          "text": [
            "(520, 1)\n"
          ]
        },
        {
          "output_type": "stream",
          "name": "stderr",
          "text": [
            "/usr/local/lib/python3.7/dist-packages/pandas/core/frame.py:4174: SettingWithCopyWarning: \n",
            "A value is trying to be set on a copy of a slice from a DataFrame\n",
            "\n",
            "See the caveats in the documentation: https://pandas.pydata.org/pandas-docs/stable/user_guide/indexing.html#returning-a-view-versus-a-copy\n",
            "  errors=errors,\n"
          ]
        }
      ]
    },
    {
      "cell_type": "code",
      "metadata": {
        "id": "QmhvbarUiUE-"
      },
      "source": [
        "iq_train_features_t=torch.tensor(iq_train_features,dtype=torch.float)\n",
        "iq_train_labels_t=torch.tensor(iq_train_labels.to_numpy(),dtype=torch.float).view(-1,1)"
      ],
      "execution_count": null,
      "outputs": []
    },
    {
      "cell_type": "code",
      "metadata": {
        "id": "WgOiVAaZKMlU"
      },
      "source": [
        "iq_train_labels =iq_train_labels.total_cases\n",
        "iq_y_range_groups = torch.tensor(iq_train_labels.values)\n",
        "iq_train_features_in_range_groups = [[],[],[],[]]\n",
        "iq_train_labels_in_range_groups = [[],[],[],[]]\n",
        "\n",
        "for i,y in enumerate(iq_train_labels):\n",
        "  range_group = get_range_group_from_cases(int(y))\n",
        "  range_group = torch.tensor([range_group])\n",
        "  \n",
        "  iq_train_features_in_range_groups[range_group].append(iq_train_features[i]) \n",
        "  iq_train_labels_in_range_groups[range_group].append(iq_train_labels.iloc[i]) #use iloc since the first index is 936 instead of 0\n",
        "  iq_y_range_groups[i] = range_group"
      ],
      "execution_count": null,
      "outputs": []
    },
    {
      "cell_type": "code",
      "metadata": {
        "colab": {
          "base_uri": "https://localhost:8080/"
        },
        "id": "LMiaFd914CRV",
        "outputId": "c2929f23-d8a5-4898-98ca-21f92b8a7ecb"
      },
      "source": [
        "train_net(net,iq_train_features_t,iq_y_range_groups)"
      ],
      "execution_count": null,
      "outputs": [
        {
          "output_type": "stream",
          "name": "stdout",
          "text": [
            "torch.Size([520, 1])\n",
            "loss: 110.2440185546875\n",
            "loss: 0.006762204226106405\n",
            "loss: 26.079029083251953\n",
            "loss: 28.5085506439209\n",
            "loss: 678.765380859375\n",
            "loss: 12.284777641296387\n",
            "loss: 6.22613525390625\n",
            "loss: 136.0769805908203\n",
            "loss: 71.99121856689453\n",
            "loss: 22.750024795532227\n"
          ]
        }
      ]
    },
    {
      "cell_type": "markdown",
      "metadata": {
        "id": "E4ZmcXWxiPRe"
      },
      "source": [
        "Regression"
      ]
    },
    {
      "cell_type": "code",
      "metadata": {
        "id": "UjDkr4zkiL3L"
      },
      "source": [
        "iq_regressors_per_range_group = []\n",
        "for i, range_group_features in enumerate(iq_train_features_in_range_groups):\n",
        "  model_lgb = lgb.LGBMRegressor(objective='regression',learning_rate=0.05,n_estimators=800,\n",
        "                              max_bin=55, bagging_fraction=0.8, min_sum_hessian_in_leaf=11)\n",
        "  range_group_labels = iq_train_labels_in_range_groups[i]\n",
        "  model_lgb.fit(range_group_features,range_group_labels)\n",
        "  iq_regressors_per_range_group.append(copy.deepcopy(model_lgb))"
      ],
      "execution_count": null,
      "outputs": []
    },
    {
      "cell_type": "markdown",
      "metadata": {
        "id": "1kz5ILFDkkOX"
      },
      "source": [
        "Test iq_features and Predict"
      ]
    },
    {
      "cell_type": "code",
      "metadata": {
        "colab": {
          "base_uri": "https://localhost:8080/"
        },
        "id": "d2HQMi8DkbBG",
        "outputId": "29578b1f-afb8-4ac5-d5da-fcabf63edff7"
      },
      "source": [
        "iq_test_features=test_features[test_features.city=='iq']\n",
        "iq_test_features.drop(['city','week_start_date'],axis=1,inplace=True)\n",
        "iq_test_features_t=knnImputer.fit_transform(iq_test_features)\n",
        "iq_test_features_t=torch.tensor(iq_test_features.to_numpy(),dtype=torch.float)"
      ],
      "execution_count": null,
      "outputs": [
        {
          "output_type": "stream",
          "name": "stderr",
          "text": [
            "/usr/local/lib/python3.7/dist-packages/pandas/core/frame.py:4174: SettingWithCopyWarning: \n",
            "A value is trying to be set on a copy of a slice from a DataFrame\n",
            "\n",
            "See the caveats in the documentation: https://pandas.pydata.org/pandas-docs/stable/user_guide/indexing.html#returning-a-view-versus-a-copy\n",
            "  errors=errors,\n"
          ]
        }
      ]
    },
    {
      "cell_type": "code",
      "metadata": {
        "id": "aaqYtW8Ykhz7"
      },
      "source": [
        "iq_test_features_tensor = torch.tensor(iq_test_features.to_numpy(),dtype=torch.float)\n",
        "\n",
        "outputs = net(iq_test_features_tensor)\n",
        "_, predicted = torch.max(outputs,1)\n",
        "predicted = predicted + 1\n",
        "\n",
        "iq_predictions=[]\n",
        "iq_test_features_per_range_group =[[],[],[],[]] \n",
        "iq_test_index_per_range_group=[[],[],[],[]] #record index \n",
        "\n",
        "for i,y in enumerate(predicted):\n",
        "  range_group = int(y)-1\n",
        "  iq_test_features_per_range_group[range_group].append(np.array(iq_test_features.iloc[i,:]))\n",
        "  iq_test_index_per_range_group[range_group].append(int(i))\n",
        "\n",
        "\n",
        "for i in range(0,len(iq_test_features_per_range_group)):\n",
        "  regressor = iq_regressors_per_range_group[i]\n",
        "  try:\n",
        "    range_group_prediction= regressor.predict(iq_test_features_per_range_group[i])\n",
        "    iq_predictions.append(predictions)\n",
        "  except:\n",
        "    # some class don't have data,ignore them\n",
        "    pass"
      ],
      "execution_count": null,
      "outputs": []
    },
    {
      "cell_type": "code",
      "metadata": {
        "id": "juxQSpTtlPd8",
        "colab": {
          "base_uri": "https://localhost:8080/",
          "height": 428
        },
        "outputId": "0a08001a-f337-4a83-8bce-c2783f50dbd1"
      },
      "source": [
        "# Transform predictions to df, restore the order of input \n",
        "test_ind=np.hstack([ind for ind in iq_test_index_per_range_group])\n",
        "iq_result=pd.DataFrame(np.hstack([a for a in iq_predictions]),columns=['cases'])\n",
        "iq_result['ind']=test_ind\n",
        "iq_result.set_index('ind')\n",
        "iq_result.drop('ind',axis=1,inplace=True)\n",
        "iq_result.sort_index()\n",
        "iq_result['cases']=iq_result.cases.apply(lambda x: round(x))"
      ],
      "execution_count": null,
      "outputs": [
        {
          "output_type": "error",
          "ename": "ValueError",
          "evalue": "ignored",
          "traceback": [
            "\u001b[0;31m---------------------------------------------------------------------------\u001b[0m",
            "\u001b[0;31mValueError\u001b[0m                                Traceback (most recent call last)",
            "\u001b[0;32m<ipython-input-123-03b7201c66c1>\u001b[0m in \u001b[0;36m<module>\u001b[0;34m()\u001b[0m\n\u001b[1;32m      1\u001b[0m \u001b[0;31m# Transform predictions to df, restore the order of input\u001b[0m\u001b[0;34m\u001b[0m\u001b[0;34m\u001b[0m\u001b[0;34m\u001b[0m\u001b[0m\n\u001b[1;32m      2\u001b[0m \u001b[0mtest_ind\u001b[0m\u001b[0;34m=\u001b[0m\u001b[0mnp\u001b[0m\u001b[0;34m.\u001b[0m\u001b[0mhstack\u001b[0m\u001b[0;34m(\u001b[0m\u001b[0;34m[\u001b[0m\u001b[0mind\u001b[0m \u001b[0;32mfor\u001b[0m \u001b[0mind\u001b[0m \u001b[0;32min\u001b[0m \u001b[0miq_test_index_per_range_group\u001b[0m\u001b[0;34m]\u001b[0m\u001b[0;34m)\u001b[0m\u001b[0;34m\u001b[0m\u001b[0;34m\u001b[0m\u001b[0m\n\u001b[0;32m----> 3\u001b[0;31m \u001b[0miq_result\u001b[0m\u001b[0;34m=\u001b[0m\u001b[0mpd\u001b[0m\u001b[0;34m.\u001b[0m\u001b[0mDataFrame\u001b[0m\u001b[0;34m(\u001b[0m\u001b[0mnp\u001b[0m\u001b[0;34m.\u001b[0m\u001b[0mhstack\u001b[0m\u001b[0;34m(\u001b[0m\u001b[0;34m[\u001b[0m\u001b[0ma\u001b[0m \u001b[0;32mfor\u001b[0m \u001b[0ma\u001b[0m \u001b[0;32min\u001b[0m \u001b[0miq_predictions\u001b[0m\u001b[0;34m]\u001b[0m\u001b[0;34m)\u001b[0m\u001b[0;34m,\u001b[0m\u001b[0mcolumns\u001b[0m\u001b[0;34m=\u001b[0m\u001b[0;34m[\u001b[0m\u001b[0;34m'cases'\u001b[0m\u001b[0;34m]\u001b[0m\u001b[0;34m)\u001b[0m\u001b[0;34m\u001b[0m\u001b[0;34m\u001b[0m\u001b[0m\n\u001b[0m\u001b[1;32m      4\u001b[0m \u001b[0miq_result\u001b[0m\u001b[0;34m[\u001b[0m\u001b[0;34m'ind'\u001b[0m\u001b[0;34m]\u001b[0m\u001b[0;34m=\u001b[0m\u001b[0mtest_ind\u001b[0m\u001b[0;34m\u001b[0m\u001b[0;34m\u001b[0m\u001b[0m\n\u001b[1;32m      5\u001b[0m \u001b[0miq_result\u001b[0m\u001b[0;34m.\u001b[0m\u001b[0mset_index\u001b[0m\u001b[0;34m(\u001b[0m\u001b[0;34m'ind'\u001b[0m\u001b[0;34m)\u001b[0m\u001b[0;34m\u001b[0m\u001b[0;34m\u001b[0m\u001b[0m\n",
            "\u001b[0;32m<__array_function__ internals>\u001b[0m in \u001b[0;36mhstack\u001b[0;34m(*args, **kwargs)\u001b[0m\n",
            "\u001b[0;32m/usr/local/lib/python3.7/dist-packages/numpy/core/shape_base.py\u001b[0m in \u001b[0;36mhstack\u001b[0;34m(tup)\u001b[0m\n\u001b[1;32m    344\u001b[0m         \u001b[0;32mreturn\u001b[0m \u001b[0m_nx\u001b[0m\u001b[0;34m.\u001b[0m\u001b[0mconcatenate\u001b[0m\u001b[0;34m(\u001b[0m\u001b[0marrs\u001b[0m\u001b[0;34m,\u001b[0m \u001b[0;36m0\u001b[0m\u001b[0;34m)\u001b[0m\u001b[0;34m\u001b[0m\u001b[0;34m\u001b[0m\u001b[0m\n\u001b[1;32m    345\u001b[0m     \u001b[0;32melse\u001b[0m\u001b[0;34m:\u001b[0m\u001b[0;34m\u001b[0m\u001b[0;34m\u001b[0m\u001b[0m\n\u001b[0;32m--> 346\u001b[0;31m         \u001b[0;32mreturn\u001b[0m \u001b[0m_nx\u001b[0m\u001b[0;34m.\u001b[0m\u001b[0mconcatenate\u001b[0m\u001b[0;34m(\u001b[0m\u001b[0marrs\u001b[0m\u001b[0;34m,\u001b[0m \u001b[0;36m1\u001b[0m\u001b[0;34m)\u001b[0m\u001b[0;34m\u001b[0m\u001b[0;34m\u001b[0m\u001b[0m\n\u001b[0m\u001b[1;32m    347\u001b[0m \u001b[0;34m\u001b[0m\u001b[0m\n\u001b[1;32m    348\u001b[0m \u001b[0;34m\u001b[0m\u001b[0m\n",
            "\u001b[0;32m<__array_function__ internals>\u001b[0m in \u001b[0;36mconcatenate\u001b[0;34m(*args, **kwargs)\u001b[0m\n",
            "\u001b[0;31mValueError\u001b[0m: need at least one array to concatenate"
          ]
        }
      ]
    },
    {
      "cell_type": "code",
      "metadata": {
        "id": "Oqo0r-ljlfe4"
      },
      "source": [
        "iq_result"
      ],
      "execution_count": null,
      "outputs": []
    },
    {
      "cell_type": "code",
      "metadata": {
        "id": "FeO_CeE6liaE"
      },
      "source": [
        "all_result=pd.concat([sj_result,iq_result],ignore_index=True)"
      ],
      "execution_count": null,
      "outputs": []
    },
    {
      "cell_type": "code",
      "metadata": {
        "id": "phSaflG9ltI0"
      },
      "source": [
        "all_result.to_csv('Approach3_Results.csv')"
      ],
      "execution_count": null,
      "outputs": []
    }
  ]
}